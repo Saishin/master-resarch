{
 "cells": [
  {
   "cell_type": "code",
   "execution_count": 32,
   "metadata": {
    "colab": {
     "base_uri": "https://localhost:8080/",
     "height": 221
    },
    "colab_type": "code",
    "executionInfo": {
     "elapsed": 5680,
     "status": "ok",
     "timestamp": 1545265275320,
     "user": {
      "displayName": "斉藤慎太郎",
      "photoUrl": "",
      "userId": "08781351261207481557"
     },
     "user_tz": -540
    },
    "id": "c7m21hRQObE1",
    "outputId": "68d467c2-0c08-4dcb-f918-56b1edb6cc1d"
   },
   "outputs": [],
   "source": [
    "# ##google colab用にchainerのインストール\n",
    "# !curl https://colab.chainer.org/install | sh -"
   ]
  },
  {
   "cell_type": "code",
   "execution_count": 33,
   "metadata": {
    "colab": {
     "base_uri": "https://localhost:8080/",
     "height": 34
    },
    "colab_type": "code",
    "executionInfo": {
     "elapsed": 5674,
     "status": "ok",
     "timestamp": 1545265275322,
     "user": {
      "displayName": "斉藤慎太郎",
      "photoUrl": "",
      "userId": "08781351261207481557"
     },
     "user_tz": -540
    },
    "id": "G4LcZg1ARPlt",
    "outputId": "e3a516b0-5fea-4602-907a-0e821119b322"
   },
   "outputs": [],
   "source": [
    "# ##google driveのマウント\n",
    "# from google.colab import drive\n",
    "# drive.mount('/content/drive')"
   ]
  },
  {
   "cell_type": "code",
   "execution_count": 34,
   "metadata": {
    "colab": {},
    "colab_type": "code",
    "id": "jJuTcO7WOc07"
   },
   "outputs": [],
   "source": [
    "import numpy as np\n",
    "import chainer\n",
    "\n",
    "from chainer import cuda,Function,report,training,utils,Variable\n",
    "from chainer import datasets,iterators,optimizers,serializers\n",
    "from chainer import Link,Chain,ChainList\n",
    "import chainer.functions as F\n",
    "import chainer.links as L\n",
    "from chainer.training import extensions\n",
    "from chainer.datasets import tuple_dataset\n",
    "import matplotlib.pyplot as plt\n",
    "\n",
    "\n",
    "%matplotlib inline"
   ]
  },
  {
   "cell_type": "code",
   "execution_count": 35,
   "metadata": {
    "colab": {
     "base_uri": "https://localhost:8080/",
     "height": 51
    },
    "colab_type": "code",
    "executionInfo": {
     "elapsed": 6106,
     "status": "ok",
     "timestamp": 1545265275780,
     "user": {
      "displayName": "斉藤慎太郎",
      "photoUrl": "",
      "userId": "08781351261207481557"
     },
     "user_tz": -540
    },
    "id": "gJQO0yaDObE3",
    "outputId": "870cbbe0-7549-427c-b9f4-52516c500637"
   },
   "outputs": [
    {
     "name": "stdout",
     "output_type": "stream",
     "text": [
      "GPU availability: True\n",
      "cuDNN availablility: True\n"
     ]
    }
   ],
   "source": [
    "##GPU環境の設定を確認\n",
    "print('GPU availability:', chainer.cuda.available)\n",
    "print('cuDNN availablility:', chainer.cuda.cudnn_enabled)"
   ]
  },
  {
   "cell_type": "code",
   "execution_count": 36,
   "metadata": {
    "colab": {},
    "colab_type": "code",
    "id": "bKainsNJSpHT"
   },
   "outputs": [],
   "source": [
    "##colab用にデータのpathを指定\n",
    "##My Driveのカンマはpath指定の時にはいらない\n",
    "\n",
    "#DATA_PATH = \"/content/drive/My Drive/resarch\"\n",
    "#!ls /content/drive/'My Drive'/resarch/\n",
    "\n",
    "DATA_PATH='./'"
   ]
  },
  {
   "cell_type": "code",
   "execution_count": 37,
   "metadata": {
    "colab": {},
    "colab_type": "code",
    "id": "HxtTlj3pObE8"
   },
   "outputs": [],
   "source": [
    "##データの読み込み\n",
    "import pickle\n",
    "\n",
    "f=open(DATA_PATH+\"/train_data201604_without_normalize_2.txt\",\"rb\")\n",
    "pre_pre_data=pickle.load(f)\n",
    "##別に取得したデータを結合させる(201604のデータ)\n",
    "f=open(DATA_PATH+\"/train_data201604_without_normalize_2.txt\",\"rb\")\n",
    "extend_data=pickle.load(f)\n",
    "\n",
    "\n",
    "f=open(DATA_PATH+\"/train_label201604_2.txt\",\"rb\")\n",
    "label=pickle.load(f)\n",
    "##別に取得したデータを結合させる(201604のデータ)\n",
    "f=open(DATA_PATH+\"train_label201604_2.txt\",\"rb\")\n",
    "extend_label=pickle.load(f)"
   ]
  },
  {
   "cell_type": "code",
   "execution_count": 38,
   "metadata": {},
   "outputs": [
    {
     "name": "stdout",
     "output_type": "stream",
     "text": [
      "origine length: 133215\n"
     ]
    }
   ],
   "source": [
    "print(\"origine length: %d\" % len(pre_pre_data))\n",
    "print(\"extend length: %d\" % len(extend_data))\n",
    "\n",
    "##追加データを配列に加える処理\n",
    "##特徴量\n",
    "for i in range(len(extend_data)):\n",
    "    pre_pre_data.append(extend_data[i])\n",
    "##正解ラベル\n",
    "for i in range(len(extend_label)):\n",
    "    label.append(extend_label[i])\n",
    "\n",
    "#####データの長さの確認\n",
    "print(\"append data: %d\" % len(pre_pre_data))"
   ]
  },
  {
   "cell_type": "code",
   "execution_count": 39,
   "metadata": {
    "colab": {
     "base_uri": "https://localhost:8080/",
     "height": 51
    },
    "colab_type": "code",
    "executionInfo": {
     "elapsed": 6911,
     "status": "ok",
     "timestamp": 1545265276611,
     "user": {
      "displayName": "斉藤慎太郎",
      "photoUrl": "",
      "userId": "08781351261207481557"
     },
     "user_tz": -540
    },
    "id": "oyBtWs4Kie6R",
    "outputId": "0339d27b-3646-4932-baf4-634d134a343a"
   },
   "outputs": [
    {
     "name": "stdout",
     "output_type": "stream",
     "text": [
      "133215\n",
      "133215\n",
      "0.3079232819126975\n"
     ]
    }
   ],
   "source": [
    "print(len(pre_pre_data))\n",
    "print(len(label))\n",
    "print(sum(label)/len(label))"
   ]
  },
  {
   "cell_type": "code",
   "execution_count": 40,
   "metadata": {
    "colab": {
     "base_uri": "https://localhost:8080/",
     "height": 34
    },
    "colab_type": "code",
    "executionInfo": {
     "elapsed": 7404,
     "status": "ok",
     "timestamp": 1545265277120,
     "user": {
      "displayName": "斉藤慎太郎",
      "photoUrl": "",
      "userId": "08781351261207481557"
     },
     "user_tz": -540
    },
    "id": "NJ9SM1R8KrKx",
    "outputId": "e68cce03-4c06-42c1-d798-ab8332e592b9"
   },
   "outputs": [
    {
     "name": "stdout",
     "output_type": "stream",
     "text": [
      "[[11136    10     7]]\n"
     ]
    }
   ],
   "source": [
    "##全データのうちの最大値をとるindexを確認\n",
    "p_data=np.array(pre_pre_data)\n",
    "max_index=np.argwhere(p_data == p_data.max())\n",
    "print(max_index)"
   ]
  },
  {
   "cell_type": "code",
   "execution_count": 41,
   "metadata": {},
   "outputs": [
    {
     "data": {
      "text/plain": [
       "0"
      ]
     },
     "execution_count": 41,
     "metadata": {},
     "output_type": "execute_result"
    }
   ],
   "source": [
    "##すべて0のデータがないか確認\n",
    "zero_index=[]\n",
    "for i in range(len(p_data)):\n",
    "    if p_data[i].max == 0:\n",
    "        zero_index.append(1)\n",
    "    else:\n",
    "        zero_index.append(0)\n",
    "sum(zero_index)"
   ]
  },
  {
   "cell_type": "code",
   "execution_count": 42,
   "metadata": {
    "colab": {
     "base_uri": "https://localhost:8080/",
     "height": 34
    },
    "colab_type": "code",
    "executionInfo": {
     "elapsed": 7398,
     "status": "ok",
     "timestamp": 1545265277121,
     "user": {
      "displayName": "斉藤慎太郎",
      "photoUrl": "",
      "userId": "08781351261207481557"
     },
     "user_tz": -540
    },
    "id": "ewm6UOPQAXGe",
    "outputId": "1807fafd-890c-413b-d752-7c92279823d1"
   },
   "outputs": [
    {
     "data": {
      "text/plain": [
       "0.09316518410088954"
      ]
     },
     "execution_count": 42,
     "metadata": {},
     "output_type": "execute_result"
    }
   ],
   "source": [
    "##だいたいどれくらい以上の値で全データのうちに占めるのかの計算\n",
    "len(np.argwhere(p_data>140))/len(p_data)"
   ]
  },
  {
   "cell_type": "code",
   "execution_count": 43,
   "metadata": {
    "colab": {},
    "colab_type": "code",
    "id": "dYYZrqKlLE-C"
   },
   "outputs": [],
   "source": [
    "###極端な値が含まれているデータを除いて新しいデータセットを作ってみる\n",
    "##ここでは、外れ値として上位約9%の値を除いたデータセットにする\n",
    "pp_data=[]\n",
    "pp_label=[]\n",
    "for i in range(len(pre_pre_data)):\n",
    "    if (np.max(pre_pre_data[i]) <=140 ):\n",
    "        pp_data.append(pre_pre_data[i])\n",
    "        pp_label.append(label[i])\n",
    "    \n",
    "    else:\n",
    "        continue"
   ]
  },
  {
   "cell_type": "code",
   "execution_count": 44,
   "metadata": {},
   "outputs": [],
   "source": [
    "##特徴量と正解ラベルのデータを同じindexで並べ替える\n",
    "random_index=[]\n",
    "for i in range(len(pp_data)):\n",
    "    random_index.append(i)\n",
    "    \n",
    "##random_indexをシャッフルする\n",
    "random_index=np.random.permutation(random_index)\n",
    "\n",
    "##random_indexを使って、新しいデータ配列を作成する\n",
    "pp_data2=[]\n",
    "pp_label2=[]\n",
    "for i in random_index:\n",
    "    pp_data2.append(pp_data[i])\n",
    "    pp_label2.append(pp_label[i])\n",
    "\n",
    "# '''シャッフルしない場合'''\n",
    "# pp_data2=pp_data\n",
    "# pp_label2=pp_label"
   ]
  },
  {
   "cell_type": "markdown",
   "metadata": {},
   "source": [
    "#### 各画像ごとの各列の正解ラベルに対しての合計をnumpyで格納して、各列の正解ラベルに対しての相関係数を求める"
   ]
  },
  {
   "cell_type": "code",
   "execution_count": 45,
   "metadata": {},
   "outputs": [],
   "source": [
    "soukan=[]\n",
    "num_sum=[]\n",
    "\n",
    "soukan_pre_data=np.array(pp_data2)\n",
    "soukan_label=np.array(pp_label2)\n",
    "\n",
    "col0=[]\n",
    "col1=[]\n",
    "col2=[]\n",
    "col3=[]\n",
    "col4=[]\n",
    "col5=[]\n",
    "col6=[]\n",
    "col7=[]\n",
    "col8=[]\n",
    "col9=[]\n",
    "col10=[]\n",
    "\n",
    "##各ユーザーごとに各列の合計を取ってくる\n",
    "for i in range(len(pp_data2)):\n",
    "    ##i番目のユーザーの各列の合計\n",
    "    num_sum=soukan_pre_data[i].sum(axis=0)\n",
    "    \n",
    "    for j in range(len(num_sum)):\n",
    "        \n",
    "        if (j==0):\n",
    "            col0.append(num_sum[j])\n",
    "        if (j==1):\n",
    "            col1.append(num_sum[j])\n",
    "        if (j==2):\n",
    "            col2.append(num_sum[j])\n",
    "        if (j==3):\n",
    "            col3.append(num_sum[j])\n",
    "        if (j==4):\n",
    "            col4.append(num_sum[j])\n",
    "        if (j==5):\n",
    "            col5.append(num_sum[j])\n",
    "        if (j==6):\n",
    "            col6.append(num_sum[j])\n",
    "        if (j==7):\n",
    "            col7.append(num_sum[j])\n",
    "        if (j==8):\n",
    "            col8.append(num_sum[j])\n",
    "        if (j==9):\n",
    "            col9.append(num_sum[j])\n",
    "        if (j==10):\n",
    "            col10.append(num_sum[j])\n",
    "        \n",
    "corr0=np.corrcoef(col0,soukan_label)[0][1]\n",
    "corr1=np.corrcoef(col1,soukan_label)[0][1]\n",
    "corr2=np.corrcoef(col2,soukan_label)[0][1]\n",
    "corr3=np.corrcoef(col3,soukan_label)[0][1]\n",
    "corr4=np.corrcoef(col4,soukan_label)[0][1]\n",
    "corr5=np.corrcoef(col5,soukan_label)[0][1]\n",
    "corr6=np.corrcoef(col6,soukan_label)[0][1]\n",
    "corr7=np.corrcoef(col7,soukan_label)[0][1]\n",
    "corr8=np.corrcoef(col8,soukan_label)[0][1]\n",
    "corr9=np.corrcoef(col9,soukan_label)[0][1]\n",
    "corr10=np.corrcoef(col10,soukan_label)[0][1]\n",
    "\n",
    "corr_list=[corr0,corr1,corr2,corr3,corr4,corr5,corr6,corr7,corr8,corr9,corr10]\n",
    "\n",
    "##相関の高いindex順に並べ替える\n",
    "num_list=[]\n",
    "\n",
    "for i in range(len(corr_list)):\n",
    "    num=np.argsort(corr_list)[::-1][i]\n",
    "    num_list.append(num)"
   ]
  },
  {
   "cell_type": "code",
   "execution_count": 46,
   "metadata": {},
   "outputs": [],
   "source": [
    "###相関を左右に降る場合はここを実行する\n",
    "#num_list=[5,9,8,7,0,3,4,1,10,6,2]"
   ]
  },
  {
   "cell_type": "code",
   "execution_count": 47,
   "metadata": {},
   "outputs": [
    {
     "name": "stdout",
     "output_type": "stream",
     "text": [
      "[0.04196269420740168, 0.034791228451347245, 0.1780146077667481, 0.005749575040845595, 0.019707631682382095, 0.0493511843004002, 0.1170317024413279, 0.012661345003537865, 0.0659387221494236, 0.14885902511358595, 0.017949394562392463]\n",
      "[2, 9, 6, 8, 5, 0, 1, 4, 10, 7, 3]\n"
     ]
    }
   ],
   "source": [
    "print(corr_list)\n",
    "print(num_list)\n",
    "##指定した順に列を並べ替える\n",
    "pp_data3=[]\n",
    "\n",
    "for i in range(len(pp_data2)):\n",
    "    data=pp_data2[i][:, num_list]\n",
    "    pp_data3.append(data)"
   ]
  },
  {
   "cell_type": "code",
   "execution_count": 48,
   "metadata": {},
   "outputs": [],
   "source": [
    "'''◯0以外のところを上限256として反転させる or\n",
    "0のところを含めて上限256として反転させる'''\n",
    "pp_reverse=[]\n",
    "for i in range(len(pp_data3)):\n",
    "    add_data=np.where(pp_data3[i]>0 ,256-pp_data3[i],pp_data3[i])\n",
    "    pp_reverse.append(add_data)\n",
    "#pp_reverse=pp_data3"
   ]
  },
  {
   "cell_type": "code",
   "execution_count": 49,
   "metadata": {},
   "outputs": [
    {
     "name": "stdout",
     "output_type": "stream",
     "text": [
      "|            Variable Name|    Memory|\n",
      " ------------------------------------ \n",
      "|                      buy|    514568|\n",
      "|                     buy2|     16112|\n",
      "|                     col0|   1043560|\n",
      "|                     col1|   1043560|\n",
      "|                    col10|   1043560|\n",
      "|                     col2|   1043560|\n",
      "|                     col3|   1043560|\n",
      "|                     col4|   1043560|\n",
      "|                     col5|   1043560|\n",
      "|                     col6|   1043560|\n",
      "|                     col7|   1043560|\n",
      "|                     col8|   1043560|\n",
      "|                     col9|   1043560|\n",
      "|                    label|   1080112|\n",
      "|                   no_buy|    514568|\n",
      "|                  no_buy2|    104816|\n",
      "|                   p_data| 351687728|\n",
      "|                  pp_data|   1043560|\n",
      "|                 pp_data2|   1043560|\n",
      "|                 pp_data3|   1043560|\n",
      "|               pp_data_np|1056000128|\n",
      "|                 pp_label|   1043560|\n",
      "|                pp_label2|   1043560|\n",
      "|               pp_reverse|   1043560|\n",
      "|                pre_data2|1056000128|\n",
      "|                pre_data3|   3389560|\n",
      "|             pre_pre_data|   1080112|\n",
      "|             random_index|   1011448|\n",
      "|       salt_papper_nega_x|   1174048|\n",
      "|       salt_papper_nega_y|   1174048|\n",
      "|       salt_papper_posi_x|   1174048|\n",
      "|       salt_papper_posi_y|   1174048|\n",
      "|             soukan_label|    505772|\n",
      "|          soukan_pre_data| 333746288|\n",
      "|               test_index|     69160|\n",
      "|                train_buy|    514568|\n",
      "|              train_index|    631480|\n",
      "|              train_nobuy|    514568|\n",
      "|   valid_x_test_add_noise|    111000|\n",
      "|   valid_y_test_add_noise|    111000|\n",
      "|         x_test_add_noise|     69160|\n",
      "|        x_train_add_noise|   3389560|\n",
      "|         y_test_add_noise|     69160|\n",
      "|        y_train_add_noise|   3389560|\n",
      "|               zero_index|   1174048|\n"
     ]
    }
   ],
   "source": [
    "import sys\n",
    "print(\"{}{: >25}{}{: >10}{}\".format('|','Variable Name','|','Memory','|'))\n",
    "print(\" ------------------------------------ \")\n",
    "for var_name in dir():\n",
    "    if not var_name.startswith(\"_\") and sys.getsizeof(eval(var_name)) > 10000: #ここだけアレンジ\n",
    "        print(\"{}{: >25}{}{: >10}{}\".format('|',var_name,'|',sys.getsizeof(eval(var_name)),'|'))"
   ]
  },
  {
   "cell_type": "code",
   "execution_count": 50,
   "metadata": {},
   "outputs": [
    {
     "data": {
      "text/plain": [
       "4"
      ]
     },
     "execution_count": 50,
     "metadata": {},
     "output_type": "execute_result"
    }
   ],
   "source": [
    "import gc\n",
    "del col0,col1,col2,col3,col4,col5,col6,col7,col8,col9,col10,label,p_data,pp_data,pp_data2,pp_data3,pp_label,pre_pre_data,soukan_label,soukan_pre_data,zero_index\n",
    "#del extend_data,extend_label\n",
    "gc.collect()"
   ]
  },
  {
   "cell_type": "markdown",
   "metadata": {},
   "source": [
    "#### テストデータだけ切り離し、標準化して保存"
   ]
  },
  {
   "cell_type": "code",
   "execution_count": 51,
   "metadata": {},
   "outputs": [
    {
     "name": "stdout",
     "output_type": "stream",
     "text": [
      "positive data:34018\n",
      "negative data:80361\n"
     ]
    }
   ],
   "source": [
    "test_buy=[]\n",
    "test_nobuy=[]\n",
    "test_index=[]\n",
    "x_test_add_noise=[]\n",
    "y_test_add_noise=[]\n",
    "length=int(len(pp_reverse)*0.1)\n",
    "for i in range(length):\n",
    "    index=int(np.random.choice(random_index,1))\n",
    "    test_index.append(index)\n",
    "    \n",
    "for i in test_index:\n",
    "    x_test_add_noise.append(pp_reverse[i])\n",
    "    y_test_add_noise.append(pp_label2[i])\n",
    "    \n",
    "    \n",
    "train_index=list(set(random_index)-set(test_index))\n",
    "###正例、不例のサンプリングをする\n",
    "##正例、不例のindexを取得しておく\n",
    "\n",
    "buy=[]\n",
    "no_buy=[]\n",
    "for i in train_index:\n",
    "    if pp_label2[i]==1:\n",
    "        buy.append(i)\n",
    "    else:\n",
    "        no_buy.append(i)\n",
    "print('positive data:{}'.format(len(buy)))\n",
    "print('negative data:{}'.format(len(no_buy)))"
   ]
  },
  {
   "cell_type": "code",
   "execution_count": 52,
   "metadata": {},
   "outputs": [],
   "source": [
    "###train\n",
    "train_buy=[]\n",
    "train_nobuy=[]\n",
    "length=int(len(pp_reverse)*0.9*0.9)\n",
    "for i in range(length):\n",
    "    index=int(np.random.choice(buy,1))\n",
    "    train_buy.append(index)\n",
    "for i in range(length):\n",
    "    index=int(np.random.choice(no_buy,1))\n",
    "    train_nobuy.append(index)\n",
    "    \n",
    "buy2=list(set(buy)-set(train_buy))\n",
    "no_buy2=list(set(no_buy)-set(train_nobuy))\n",
    "\n",
    "##train\n",
    "x_train_add_noise=[]\n",
    "y_train_add_noise=[]\n",
    "\n",
    "valid_x_test_add_noise=[]\n",
    "valid_y_test_add_noise=[]\n",
    "\n",
    "for i in train_buy:\n",
    "    x_train_add_noise.append(pp_reverse[i])\n",
    "    y_train_add_noise.append(pp_label2[i])\n",
    "for i in train_nobuy:\n",
    "    x_train_add_noise.append(pp_reverse[i])\n",
    "    y_train_add_noise.append(pp_label2[i])\n",
    "    \n",
    "for i in buy2:\n",
    "    valid_x_test_add_noise.append(pp_reverse[i])\n",
    "    valid_y_test_add_noise.append(pp_label2[i])\n",
    "for i in no_buy2:\n",
    "    valid_x_test_add_noise.append(pp_reverse[i])\n",
    "    valid_y_test_add_noise.append(pp_label2[i])\n",
    "\n",
    "def scale(X):\n",
    "    \"\"\"データ行列Xを属性ごとに標準化したデータを返す\"\"\"\n",
    "    # 属性の数 (列の数)\n",
    "    delta=1e-3\n",
    "    col = X[0].shape[1]\n",
    "\n",
    "   \n",
    "    # 属性ごとにデータを標準化or正則化\n",
    "    for j in range(len(X)):\n",
    "        for i in range(col):\n",
    "            # 属性ごとに平均値と標準偏差を計算\n",
    "            #mu = np.mean(X[j,:,[i]])\n",
    "            mu = np.mean(X[j][:,[i]])\n",
    "            #max_num = np.max(X[j][:,i])\n",
    "            #sigma = np.std(X[j,:,[i]])\n",
    "            sigma = np.std(X[j][:,[i]])\n",
    "            #min_num = np.min(X[j][:,i])\n",
    "            #X[j,:,[i]]= (X[j,:,[i]]- mu) / (sigma+delta)\n",
    "            X[j][:,[i]]= (X[j][:,[i]]- mu) / (sigma+delta)\n",
    "            #X[j][:,[i]]= (X[j][:,[i]]- min_num) / (max_num - min_num)\n",
    "\n",
    "    return X\n",
    "  \n",
    "##各ユーザーデータを列ごとに標準化(列の値が全て0の場合を考えて、分母に極小の値を加えて標準化)\n",
    "pp_data_np=np.asarray(x_test_add_noise)\n",
    "pre_data2=scale(pp_data_np)"
   ]
  },
  {
   "cell_type": "code",
   "execution_count": 53,
   "metadata": {},
   "outputs": [
    {
     "name": "stdout",
     "output_type": "stream",
     "text": [
      "12641\n",
      "12641\n"
     ]
    }
   ],
   "source": [
    "np.set_printoptions(threshold=np.inf)\n",
    "len(np.unique(np.where(np.isnan(pre_data2))[0]))\n",
    "nan_list=np.unique(np.where(np.isnan(pre_data2))[0])\n",
    "\n",
    "##nanの部分を削除\n",
    "dellist = lambda items, indexes: [item for index, item in enumerate(items) if index not in indexes]\n",
    "pre_data3=dellist(pre_data2,nan_list)\n",
    "label=dellist(y_test_add_noise,nan_list)\n",
    "\n",
    "'''特徴量:pre_data3   ラベル:label'''\n",
    "##データの長さがずれないか確認\n",
    "print(len(label))\n",
    "print(len(pre_data3))"
   ]
  },
  {
   "cell_type": "code",
   "execution_count": 54,
   "metadata": {},
   "outputs": [
    {
     "name": "stdout",
     "output_type": "stream",
     "text": [
      "0.29673285341349576\n"
     ]
    }
   ],
   "source": [
    "##test dataの保存\n",
    "import pickle\n",
    "f=open(\"./x_test_corr_high_test_without_add_some_noise_samesample_only6.txt\",\"wb\")\n",
    "pickle.dump(pre_data3, f)\n",
    "f=open(\"./y_test_corr_high_test_without_add_some_noise_samesample_only6.txt\",\"wb\")\n",
    "pickle.dump(label, f)\n",
    "\n",
    "print(sum(label)/len(label))"
   ]
  },
  {
   "cell_type": "code",
   "execution_count": 55,
   "metadata": {},
   "outputs": [
    {
     "name": "stdout",
     "output_type": "stream",
     "text": [
      "24265\n",
      "24265\n",
      "0.07216154955697507\n"
     ]
    }
   ],
   "source": [
    "##validation 標準化\n",
    "pp_data_np=np.asarray(valid_x_test_add_noise)\n",
    "pre_data2=scale(pp_data_np)\n",
    "\n",
    "np.set_printoptions(threshold=np.inf)\n",
    "len(np.unique(np.where(np.isnan(pre_data2))[0]))\n",
    "nan_list=np.unique(np.where(np.isnan(pre_data2))[0])\n",
    "\n",
    "##nanの部分を削除\n",
    "dellist = lambda items, indexes: [item for index, item in enumerate(items) if index not in indexes]\n",
    "pre_data3=dellist(pre_data2,nan_list)\n",
    "label=dellist(valid_y_test_add_noise,nan_list)\n",
    "\n",
    "'''特徴量:pre_data3   ラベル:label'''\n",
    "##データの長さがずれないか確認\n",
    "print(len(label))\n",
    "print(len(pre_data3))\n",
    "print(sum(label)/len(label))\n",
    "\n",
    "##valid\n",
    "f=open(\"./validation_x_test_corr_high_test_without_add_some_noise_samesample_only6.txt\",\"wb\")\n",
    "pickle.dump(pre_data3, f)\n",
    "f=open(\"./validation_y_test_corr_high_test_without_add_some_noise_samesample_only6.txt\",\"wb\")\n",
    "pickle.dump(label, f)"
   ]
  },
  {
   "cell_type": "code",
   "execution_count": 56,
   "metadata": {},
   "outputs": [
    {
     "name": "stdout",
     "output_type": "stream",
     "text": [
      "positive data:102399\n",
      "negative data:102399\n"
     ]
    }
   ],
   "source": [
    "###正例、不例のサンプリングをする\n",
    "##正例、不例のindexを取得しておく\n",
    "\n",
    "buy=[]\n",
    "no_buy=[]\n",
    "for i in range(len(y_train_add_noise)):\n",
    "    if y_train_add_noise[i]==1:\n",
    "        buy.append(i)\n",
    "    else:\n",
    "        no_buy.append(i)\n",
    "print('positive data:{}'.format(len(buy)))\n",
    "print('negative data:{}'.format(len(no_buy)))"
   ]
  },
  {
   "cell_type": "markdown",
   "metadata": {},
   "source": [
    "### データ水増し"
   ]
  },
  {
   "cell_type": "code",
   "execution_count": 57,
   "metadata": {},
   "outputs": [
    {
     "name": "stderr",
     "output_type": "stream",
     "text": [
      "/home/shin/py3env/lib/python3.5/site-packages/ipykernel_launcher.py:39: FutureWarning: Using a non-tuple sequence for multidimensional indexing is deprecated; use `arr[tuple(seq)]` instead of `arr[seq]`. In the future this will be interpreted as an array index, `arr[np.array(seq)]`, which will result either in an error or a different result.\n",
      "/home/shin/py3env/lib/python3.5/site-packages/ipykernel_launcher.py:44: FutureWarning: Using a non-tuple sequence for multidimensional indexing is deprecated; use `arr[tuple(seq)]` instead of `arr[seq]`. In the future this will be interpreted as an array index, `arr[np.array(seq)]`, which will result either in an error or a different result.\n",
      "/home/shin/py3env/lib/python3.5/site-packages/ipykernel_launcher.py:64: FutureWarning: Using a non-tuple sequence for multidimensional indexing is deprecated; use `arr[tuple(seq)]` instead of `arr[seq]`. In the future this will be interpreted as an array index, `arr[np.array(seq)]`, which will result either in an error or a different result.\n",
      "/home/shin/py3env/lib/python3.5/site-packages/ipykernel_launcher.py:69: FutureWarning: Using a non-tuple sequence for multidimensional indexing is deprecated; use `arr[tuple(seq)]` instead of `arr[seq]`. In the future this will be interpreted as an array index, `arr[np.array(seq)]`, which will result either in an error or a different result.\n"
     ]
    }
   ],
   "source": [
    "'''データの水増しを行う\n",
    "不例を20万枚増やして正例データを同じ数になるようにしてみる\n",
    "正例、不例ともにごま塩加工で増やす\n",
    "'''\n",
    "##塩の割合を指定\n",
    "#s_vs_p = 0.7\n",
    "s_vs_p = 0.7\n",
    "##全体的にごま塩を増やしたいなら、ここを変える\n",
    "amount = 0.15\n",
    "#amount = 0.2\n",
    "from skimage import transform\n",
    "import random\n",
    "\n",
    "\n",
    "'''正例、不例ともに画素10%にごま塩加工'''\n",
    "salt_papper_posi_x=[]\n",
    "salt_papper_posi_y=[]\n",
    "salt_papper_nega_x=[]\n",
    "salt_papper_nega_y=[]\n",
    "\n",
    "salt_papper_posi_x2=[]\n",
    "salt_papper_posi_y2=[]\n",
    "salt_papper_nega_x2=[]\n",
    "salt_papper_nega_y2=[]\n",
    "\n",
    "no_buy_loop = 200000-len(no_buy)\n",
    "\n",
    "'''負例データ'''\n",
    "for j in range(no_buy_loop):\n",
    "    ##データindexのランダム選択\n",
    "    nega=int(np.random.choice(no_buy,1))\n",
    "    src = x_train_add_noise[nega]\n",
    "    sp_img = src.copy()\n",
    "    # 塩モード\n",
    "    num_salt = np.ceil(amount * src.size * s_vs_p)\n",
    "    coords = [np.random.randint(0, i , int(num_salt)) for i in sp_img.shape]\n",
    "    ##代入する値をランダムに選択(200から255)\n",
    "    input_number = int(np.random.randint(116, 256 ,1))\n",
    "    sp_img[coords] = input_number\n",
    "\n",
    "    # 胡椒モード\n",
    "    num_pepper = np.ceil(amount* src.size * (1. - s_vs_p))\n",
    "    coords = [np.random.randint(0, i , int(num_pepper)) for i in sp_img.shape]\n",
    "    sp_img[coords] = 0\n",
    "    \n",
    "    salt_papper_nega_x.append(sp_img)\n",
    "    salt_papper_nega_y.append(y_train_add_noise[nega])\n",
    "    \n",
    "\n",
    "\n",
    "buy_loop = 200000-len(buy)\n",
    "\n",
    "'''正例データ'''\n",
    "for j in range(buy_loop):\n",
    "    ##データindexのランダム選択\n",
    "    posi=int(np.random.choice(buy,1))\n",
    "    src = x_train_add_noise[posi]\n",
    "    sp_img = src.copy()\n",
    "    # 塩モード\n",
    "    num_salt = np.ceil(amount * src.size * s_vs_p)\n",
    "    coords = [np.random.randint(0, i , int(num_salt)) for i in sp_img.shape]\n",
    "    ##代入する値をランダムに選択(200から255)\n",
    "    input_number = int(np.random.randint(116, 256 ,1))\n",
    "    sp_img[coords] = input_number\n",
    "\n",
    "    # 胡椒モード\n",
    "    num_pepper = np.ceil(amount* src.size * (1. - s_vs_p))\n",
    "    coords = [np.random.randint(0, i , int(num_pepper)) for i in sp_img.shape]\n",
    "    sp_img[coords] = 0\n",
    "    \n",
    "    salt_papper_posi_x.append(sp_img)\n",
    "    salt_papper_posi_y.append(y_train_add_noise[posi])\n",
    "    \n",
    "# '''違う値の塩の代入パターン1'''\n",
    "\n",
    "# no_buy_loop = 100000-len(no_buy)\n",
    "# s_vs_p = 0.7\n",
    "# amount = 0.15\n",
    "# nega_loop=200000\n",
    "# '''負例データ'''\n",
    "# for j in range(no_buy_loop):\n",
    "#     ##データindexのランダム選択\n",
    "#     nega=int(np.random.choice(no_buy,1))\n",
    "#     src = valid_x_train_add_noise[nega]\n",
    "#     sp_img = src.copy()\n",
    "#     # 塩モード\n",
    "#     num_salt = np.ceil(amount * src.size * s_vs_p)\n",
    "#     coords = [np.random.randint(0, i , int(num_salt)) for i in sp_img.shape]\n",
    "#     ##代入する値をランダムに選択(115, 151)\n",
    "#     input_number = int(np.random.randint(116, 256 ,1))\n",
    "#     sp_img[coords] = input_number\n",
    "\n",
    "#     # 胡椒モード\n",
    "#     num_pepper = np.ceil(amount* src.size * (1. - s_vs_p))\n",
    "#     coords = [np.random.randint(0, i , int(num_pepper)) for i in sp_img.shape]\n",
    "#     sp_img[coords] = 0\n",
    "    \n",
    "#     salt_papper_nega_x2.append(sp_img)\n",
    "#     salt_papper_nega_y2.append(valid_y_train_add_noise[nega])\n",
    "\n",
    "\n",
    "# buy_loop = 100000-len(buy)\n",
    "# posi_loop=200000\n",
    "# '''正例データ'''\n",
    "# for j in range(buy_loop):\n",
    "#     ##データindexのランダム選択\n",
    "#     posi=int(np.random.choice(buy,1))\n",
    "#     src = valid_x_train_add_noise[posi]\n",
    "#     sp_img = src.copy()\n",
    "#     # 塩モード\n",
    "#     num_salt = np.ceil(amount * src.size * s_vs_p)\n",
    "#     coords = [np.random.randint(0, i , int(num_salt)) for i in sp_img.shape]\n",
    "#     ##代入する値をランダムに選択(115, 151)\n",
    "#     input_number = int(np.random.randint(116, 256 ,1))\n",
    "#     sp_img[coords] = input_number\n",
    "\n",
    "#     # 胡椒モード\n",
    "#     num_pepper = np.ceil(amount* src.size * (1. - s_vs_p))\n",
    "#     coords = [np.random.randint(0, i , int(num_pepper)) for i in sp_img.shape]\n",
    "#     sp_img[coords] = 0\n",
    "    \n",
    "#     salt_papper_posi_x2.append(sp_img)\n",
    "#     salt_papper_posi_y2.append(valid_y_train_add_noise[posi])\n",
    "\n",
    "\n",
    "\n"
   ]
  },
  {
   "cell_type": "code",
   "execution_count": 58,
   "metadata": {},
   "outputs": [
    {
     "data": {
      "text/plain": [
       "'平滑化処理'"
      ]
     },
     "execution_count": 58,
     "metadata": {},
     "output_type": "execute_result"
    }
   ],
   "source": [
    "###データappend\n",
    "for i in range(len(salt_papper_posi_x)):\n",
    "    x_train_add_noise.append(salt_papper_posi_x[i])\n",
    "    y_train_add_noise.append(salt_papper_posi_y[i])\n",
    "    \n",
    "for i in range(len(salt_papper_nega_x)):\n",
    "    x_train_add_noise.append(salt_papper_nega_x[i])\n",
    "    y_train_add_noise.append(salt_papper_nega_y[i])\n",
    "    \n",
    "# for i in range(len(salt_papper_posi_x2)):\n",
    "#     valid_x_train_add_noise.append(salt_papper_posi_x2[i])\n",
    "#     valid_y_train_add_noise.append(salt_papper_posi_y2[i])\n",
    "    \n",
    "# for i in range(len(salt_papper_nega_x2)):\n",
    "#     valid_x_train_add_noise.append(salt_papper_nega_x2[i])\n",
    "#     valid_y_train_add_noise.append(salt_papper_nega_y2[i])\n",
    "\n",
    "'''平滑化処理'''\n",
    "# ##正例、不例のindexを更新\n",
    "\n",
    "# buy=[]\n",
    "# no_buy=[]\n",
    "# for i in range(len(y_train_add_noise)):\n",
    "#     if y_train_add_noise[i]==1:\n",
    "#         buy.append(i)\n",
    "#     else:\n",
    "#         no_buy.append(i)\n",
    "\n",
    "\n",
    "# import cv2\n",
    "# average_square = (3,3)\n",
    "\n",
    "# nega_loop=50000\n",
    "# posi_loop=50000\n",
    "# '''負例データ'''\n",
    "# for j in range(nega_loop):\n",
    "#     ##データindexのランダム選択\n",
    "#     nega=int(np.random.choice(no_buy,1))\n",
    "#     src = x_train_add_noise[nega]\n",
    "#     sp_img = src.copy()\n",
    "#     ##平滑化\n",
    "#     blur_img = cv2.blur(sp_img, average_square)\n",
    "    \n",
    "#     salt_papper_nega_x2.append(blur_img)\n",
    "#     salt_papper_nega_y2.append(y_train_add_noise[nega])\n",
    "\n",
    "# '''正例データ'''\n",
    "# for j in range(posi_loop):\n",
    "#     ##データindexのランダム選択\n",
    "#     posi=int(np.random.choice(buy,1))\n",
    "#     src = x_train_add_noise[posi]\n",
    "#     sp_img = src.copy()\n",
    "#     ##平滑化\n",
    "#     blur_img = cv2.blur(sp_img, average_square)\n",
    "    \n",
    "#     salt_papper_posi_x2.append(blur_img)\n",
    "#     salt_papper_posi_y2.append(y_train_add_noise[posi])\n",
    "\n",
    "    \n",
    "# for i in range(len(salt_papper_posi_x2)):\n",
    "#     x_train_add_noise.append(salt_papper_posi_x2[i])\n",
    "#     y_train_add_noise.append(salt_papper_posi_y2[i])\n",
    "    \n",
    "# for i in range(len(salt_papper_nega_x2)):\n",
    "#     x_train_add_noise.append(salt_papper_nega_x2[i])\n",
    "#     y_train_add_noise.append(salt_papper_nega_y2[i])"
   ]
  },
  {
   "cell_type": "markdown",
   "metadata": {},
   "source": [
    "### 標準化"
   ]
  },
  {
   "cell_type": "code",
   "execution_count": 59,
   "metadata": {},
   "outputs": [],
   "source": [
    "\n",
    "def scale(X):\n",
    "    \"\"\"データ行列Xを属性ごとに標準化したデータを返す\"\"\"\n",
    "    # 属性の数 (列の数)\n",
    "    delta=1e-3\n",
    "    col = X[0].shape[1]\n",
    "\n",
    "   \n",
    "    # 属性ごとにデータを標準化or正則化\n",
    "    for j in range(len(X)):\n",
    "        for i in range(col):\n",
    "            # 属性ごとに平均値と標準偏差を計算\n",
    "            #mu = np.mean(X[j,:,[i]])\n",
    "            mu = np.mean(X[j][:,[i]])\n",
    "            #max_num = np.max(X[j][:,i])\n",
    "            #sigma = np.std(X[j,:,[i]])\n",
    "            sigma = np.std(X[j][:,[i]])\n",
    "            #min_num = np.min(X[j][:,i])\n",
    "            #X[j,:,[i]]= (X[j,:,[i]]- mu) / (sigma+delta)\n",
    "            X[j][:,[i]]= (X[j][:,[i]]- mu) / (sigma+delta)\n",
    "            #X[j][:,[i]]= (X[j][:,[i]]- min_num) / (max_num - min_num)\n",
    "\n",
    "    return X\n",
    "  \n",
    "##各ユーザーデータを列ごとに標準化(列の値が全て0の場合を考えて、分母に極小の値を加えて標準化)\n",
    "pp_data_np=np.asarray(x_train_add_noise)\n",
    "pre_data2=scale(pp_data_np)\n",
    "\n",
    "# '''全データの最大値で正規化'''\n",
    "# pre_data2=[]\n",
    "# for i in range(len(pp_data2)):\n",
    "#     divided=pp_data2[i]/255\n",
    "#     pre_data2.append(divided)"
   ]
  },
  {
   "cell_type": "markdown",
   "metadata": {},
   "source": [
    "すべてのログが0のものも取り出しているから、削除する。<br>\n",
    "とりあえずnanのあるところはindexを取得して、削除する。<br>\n",
    "そのindexを参照して、正解ラベルも削除"
   ]
  },
  {
   "cell_type": "code",
   "execution_count": 60,
   "metadata": {},
   "outputs": [
    {
     "name": "stdout",
     "output_type": "stream",
     "text": [
      "400000\n",
      "400000\n"
     ]
    }
   ],
   "source": [
    "np.set_printoptions(threshold=np.inf)\n",
    "len(np.unique(np.where(np.isnan(pre_data2))[0]))\n",
    "nan_list=np.unique(np.where(np.isnan(pre_data2))[0])\n",
    "\n",
    "##nanの部分を削除\n",
    "dellist = lambda items, indexes: [item for index, item in enumerate(items) if index not in indexes]\n",
    "pre_data3=dellist(pre_data2,nan_list)\n",
    "label=dellist(y_train_add_noise,nan_list)\n",
    "\n",
    "'''特徴量:pre_data3   ラベル:label'''\n",
    "##データの長さがずれないか確認\n",
    "print(len(label))\n",
    "print(len(pre_data3))"
   ]
  },
  {
   "cell_type": "code",
   "execution_count": 61,
   "metadata": {},
   "outputs": [],
   "source": [
    "##train保存\n",
    "##train\n",
    "f = open('./validation_x_train_corr_high_test_without_add_some_noise_samesample_only6.txt', 'wb')\n",
    "pickle.dump(pre_data3, f)\n",
    "f = open('./validation_y_train_corr_high_test_without_add_some_noise_samesample_only6.txt', 'wb')\n",
    "pickle.dump(label, f)\n"
   ]
  },
  {
   "cell_type": "code",
   "execution_count": 62,
   "metadata": {},
   "outputs": [
    {
     "name": "stdout",
     "output_type": "stream",
     "text": [
      "0.5\n"
     ]
    }
   ],
   "source": [
    "print(sum(label)/len(label))"
   ]
  }
 ],
 "metadata": {
  "accelerator": "GPU",
  "colab": {
   "collapsed_sections": [],
   "name": "purchase_predcit2_data_modify.ipynb",
   "provenance": [],
   "version": "0.3.2"
  },
  "kernelspec": {
   "display_name": "Python 3",
   "language": "python",
   "name": "python3"
  },
  "language_info": {
   "codemirror_mode": {
    "name": "ipython",
    "version": 3
   },
   "file_extension": ".py",
   "mimetype": "text/x-python",
   "name": "python",
   "nbconvert_exporter": "python",
   "pygments_lexer": "ipython3",
   "version": "3.5.2"
  }
 },
 "nbformat": 4,
 "nbformat_minor": 1
}
