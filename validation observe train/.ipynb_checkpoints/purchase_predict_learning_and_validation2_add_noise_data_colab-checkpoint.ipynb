{
 "cells": [
  {
   "cell_type": "code",
   "execution_count": null,
   "metadata": {
    "colab": {
     "base_uri": "https://localhost:8080/",
     "height": 221
    },
    "colab_type": "code",
    "executionInfo": {
     "elapsed": 5680,
     "status": "ok",
     "timestamp": 1545265275320,
     "user": {
      "displayName": "斉藤慎太郎",
      "photoUrl": "",
      "userId": "08781351261207481557"
     },
     "user_tz": -540
    },
    "id": "c7m21hRQObE1",
    "outputId": "68d467c2-0c08-4dcb-f918-56b1edb6cc1d"
   },
   "outputs": [],
   "source": [
    "##google colab用にchainerのインストール\n",
    "!curl https://colab.chainer.org/install | sh -"
   ]
  },
  {
   "cell_type": "code",
   "execution_count": null,
   "metadata": {
    "colab": {
     "base_uri": "https://localhost:8080/",
     "height": 34
    },
    "colab_type": "code",
    "executionInfo": {
     "elapsed": 5674,
     "status": "ok",
     "timestamp": 1545265275322,
     "user": {
      "displayName": "斉藤慎太郎",
      "photoUrl": "",
      "userId": "08781351261207481557"
     },
     "user_tz": -540
    },
    "id": "G4LcZg1ARPlt",
    "outputId": "e3a516b0-5fea-4602-907a-0e821119b322"
   },
   "outputs": [],
   "source": [
    "##google driveのマウント\n",
    "from google.colab import drive\n",
    "drive.mount('/content/drive')"
   ]
  },
  {
   "cell_type": "code",
   "execution_count": null,
   "metadata": {
    "colab": {},
    "colab_type": "code",
    "id": "jJuTcO7WOc07"
   },
   "outputs": [],
   "source": [
    "import numpy as np\n",
    "import chainer\n",
    "\n",
    "from chainer import cuda,report,training,Variable\n",
    "from chainer import datasets,iterators,optimizers,serializers\n",
    "from chainer import Link,Chain,ChainList\n",
    "import chainer.functions as F\n",
    "import chainer.links as L\n",
    "from chainer.training import extensions\n",
    "from chainer.datasets import tuple_dataset\n",
    "import matplotlib.pyplot as plt\n",
    "\n",
    "\n",
    "%matplotlib inline"
   ]
  },
  {
   "cell_type": "code",
   "execution_count": null,
   "metadata": {
    "colab": {
     "base_uri": "https://localhost:8080/",
     "height": 51
    },
    "colab_type": "code",
    "executionInfo": {
     "elapsed": 6106,
     "status": "ok",
     "timestamp": 1545265275780,
     "user": {
      "displayName": "斉藤慎太郎",
      "photoUrl": "",
      "userId": "08781351261207481557"
     },
     "user_tz": -540
    },
    "id": "gJQO0yaDObE3",
    "outputId": "870cbbe0-7549-427c-b9f4-52516c500637"
   },
   "outputs": [],
   "source": [
    "##GPU環境の設定を確認\n",
    "print('GPU availability:', chainer.cuda.available)\n",
    "print('cuDNN availablility:', chainer.cuda.cudnn_enabled)"
   ]
  },
  {
   "cell_type": "code",
   "execution_count": null,
   "metadata": {
    "colab": {},
    "colab_type": "code",
    "id": "bKainsNJSpHT"
   },
   "outputs": [],
   "source": [
    "#colab用にデータのpathを指定\n",
    "#My Driveのカンマはpath指定の時にはいらない\n",
    "\n",
    "DATA_PATH = \"/content/drive/My Drive/resarch\""
   ]
  },
  {
   "cell_type": "code",
   "execution_count": null,
   "metadata": {
    "colab": {},
    "colab_type": "code",
    "id": "HxtTlj3pObE8"
   },
   "outputs": [],
   "source": [
    "##データの読み込み\n",
    "import pickle\n",
    "\n",
    "##train\n",
    "f=open(DATA_PATH+\"/validation_x_train_corr_high_test_without_add_some_noise_samesample2.txt\",\"rb\")\n",
    "x_train=pickle.load(f)\n",
    "\n",
    "f=open(DATA_PATH+\"/validation_y_train_corr_high_test_without_add_some_noise_samesample2.txt\",\"rb\")\n",
    "y_train=pickle.load(f)\n",
    "\n",
    "##test\n",
    "f=open(DATA_PATH+\"/validation_x_test_corr_high_test_without_add_some_noise_samesample2.txt\",\"rb\")\n",
    "x_test=pickle.load(f)\n",
    "\n",
    "f=open(DATA_PATH+\"/validation_y_test_corr_high_test_without_add_some_noise_samesample2.txt\",\"rb\")\n",
    "y_test=pickle.load(f)"
   ]
  },
  {
   "cell_type": "code",
   "execution_count": null,
   "metadata": {
    "colab": {},
    "colab_type": "code",
    "id": "YQTB2-fCObFO"
   },
   "outputs": [],
   "source": [
    "##データをcupyに変換\n",
    "import cupy as cp\n",
    "##train\n",
    "x_train=cp.asarray(x_train,dtype=cp.float32)\n",
    "y_train=cp.asarray(y_train,dtype=cp.int32)\n",
    "\n",
    "##test\n",
    "x_test=cp.asarray(x_test,dtype=cp.float32)\n",
    "y_test=cp.asarray(y_test,dtype=cp.int32)"
   ]
  },
  {
   "cell_type": "code",
   "execution_count": null,
   "metadata": {},
   "outputs": [],
   "source": [
    "print(sum(y_train)/len(y_train))\n",
    "print(sum(y_test)/len(y_test))"
   ]
  },
  {
   "cell_type": "code",
   "execution_count": null,
   "metadata": {
    "colab": {
     "base_uri": "https://localhost:8080/",
     "height": 34
    },
    "colab_type": "code",
    "executionInfo": {
     "elapsed": 65583,
     "status": "ok",
     "timestamp": 1545265335382,
     "user": {
      "displayName": "斉藤慎太郎",
      "photoUrl": "",
      "userId": "08781351261207481557"
     },
     "user_tz": -540
    },
    "id": "2sbkXPzZObFR",
    "outputId": "46441f67-7b78-492f-f715-266992490d92"
   },
   "outputs": [],
   "source": [
    "x_train.shape"
   ]
  },
  {
   "cell_type": "code",
   "execution_count": null,
   "metadata": {
    "colab": {},
    "colab_type": "code",
    "id": "m59enm_oObFU"
   },
   "outputs": [],
   "source": [
    "##画像を4次元に変換\n",
    "x_train=x_train.reshape(len(x_train), 1, 30, 11)\n",
    "x_test=x_test.reshape(len(x_test), 1, 30, 11)"
   ]
  },
  {
   "cell_type": "code",
   "execution_count": null,
   "metadata": {},
   "outputs": [],
   "source": [
    "##train\n",
    "train = tuple_dataset.TupleDataset(x_train,y_train)\n",
    "##test\n",
    "test = tuple_dataset.TupleDataset(x_test,y_test)"
   ]
  },
  {
   "cell_type": "code",
   "execution_count": null,
   "metadata": {
    "colab": {},
    "colab_type": "code",
    "id": "8I5kv8-zObFd"
   },
   "outputs": [],
   "source": [
    "#ネットワーク定義\n",
    "\n",
    "out_chanel1=64\n",
    "out_chanel2=32\n",
    "out_chanel3=64\n",
    "k_size=3\n",
    "pad_size=1\n",
    "initializer = chainer.initializers.HeNormal()\n",
    "class Purchase(Chain):\n",
    "    def __init__(self):\n",
    "        super(Purchase , self).__init__(\n",
    "            ##k_size:3\n",
    "            conv0=L.Convolution2D(1,out_chanel1,ksize=5,pad=2,initialW=initializer),\n",
    "            ##\n",
    "            conv1=L.Convolution2D(out_chanel1,out_chanel1,ksize=k_size,pad=pad_size,initialW=initializer),\n",
    "            conv2=L.Convolution2D(out_chanel1,out_chanel1,ksize=k_size,pad=pad_size,initialW=initializer),\n",
    "            conv3=L.Convolution2D(out_chanel1,out_chanel1,ksize=k_size,pad=pad_size,initialW=initializer),\n",
    "            ##\n",
    "            conv4=L.Convolution2D(out_chanel1,out_chanel1,ksize=k_size,pad=pad_size,initialW=initializer),\n",
    "            conv5=L.Convolution2D(out_chanel1,out_chanel1,ksize=k_size,pad=pad_size,initialW=initializer),\n",
    "            conv6=L.Convolution2D(out_chanel1,out_chanel1,ksize=k_size,pad=pad_size,initialW=initializer),\n",
    "            ##\n",
    "            conv7=L.Convolution2D(out_chanel1,out_chanel1,ksize=k_size,pad=pad_size,initialW=initializer),\n",
    "            conv8=L.Convolution2D(out_chanel1,out_chanel1,ksize=k_size,pad=pad_size,initialW=initializer),\n",
    "            conv9=L.Convolution2D(out_chanel1,out_chanel1,ksize=k_size,pad=pad_size,initialW=initializer),\n",
    "            ##\n",
    "            conv10=L.Convolution2D(out_chanel1,out_chanel1,ksize=k_size,pad=pad_size,initialW=initializer),\n",
    "            conv11=L.Convolution2D(out_chanel1,out_chanel1,ksize=k_size,pad=pad_size,initialW=initializer),\n",
    "            conv12=L.Convolution2D(out_chanel1,out_chanel1,ksize=k_size,pad=pad_size,initialW=initializer),\n",
    "            ##\n",
    "            conv13=L.Convolution2D(out_chanel1,out_chanel1,ksize=k_size,pad=pad_size,initialW=initializer),\n",
    "            conv14=L.Convolution2D(out_chanel1,out_chanel1,ksize=k_size,pad=pad_size,initialW=initializer),\n",
    "            conv15=L.Convolution2D(out_chanel1,out_chanel1,ksize=k_size,pad=pad_size,initialW=initializer),\n",
    "            ##\n",
    "            conv16=L.Convolution2D(out_chanel1,out_chanel1,ksize=k_size,pad=pad_size,initialW=initializer),\n",
    "            conv17=L.Convolution2D(out_chanel1,out_chanel1,ksize=k_size,pad=pad_size,initialW=initializer),\n",
    "            conv18=L.Convolution2D(out_chanel1,out_chanel1,ksize=k_size,pad=pad_size,initialW=initializer),\n",
    "            ##\n",
    "            conv19=L.Convolution2D(out_chanel1,out_chanel1,ksize=k_size,pad=pad_size,initialW=initializer),\n",
    "            conv20=L.Convolution2D(out_chanel1,out_chanel1,ksize=k_size,pad=pad_size,initialW=initializer),\n",
    "            conv21=L.Convolution2D(out_chanel1,out_chanel1,ksize=k_size,pad=pad_size,initialW=initializer),\n",
    "            ##\n",
    "            conv22=L.Convolution2D(out_chanel1,out_chanel1,ksize=k_size,pad=pad_size,initialW=initializer),\n",
    "            conv23=L.Convolution2D(out_chanel1,out_chanel1,ksize=k_size,pad=pad_size,initialW=initializer),\n",
    "            conv24=L.Convolution2D(out_chanel1,out_chanel1,ksize=k_size,pad=pad_size,initialW=initializer),\n",
    "            ##\n",
    "            conv25=L.Convolution2D(out_chanel1,out_chanel1,ksize=k_size,pad=pad_size,initialW=initializer),\n",
    "            conv26=L.Convolution2D(out_chanel1,out_chanel1,ksize=k_size,pad=pad_size,initialW=initializer),\n",
    "            conv27=L.Convolution2D(out_chanel1,out_chanel1,ksize=k_size,pad=pad_size,initialW=initializer),\n",
    "            ##\n",
    "            conv28=L.Convolution2D(out_chanel1,out_chanel1,ksize=k_size,pad=pad_size,initialW=initializer),\n",
    "\n",
    "            \n",
    "            bn0=L.BatchNormalization(out_chanel1),\n",
    "            bn1=L.BatchNormalization(out_chanel1),\n",
    "            bn2=L.BatchNormalization(out_chanel1),\n",
    "            bn3=L.BatchNormalization(out_chanel1),\n",
    "            bn4=L.BatchNormalization(out_chanel1),\n",
    "            bn5=L.BatchNormalization(out_chanel1),\n",
    "            bn6=L.BatchNormalization(out_chanel1),\n",
    "            bn7=L.BatchNormalization(out_chanel1),\n",
    "            bn8=L.BatchNormalization(out_chanel1),\n",
    "            bn9=L.BatchNormalization(out_chanel1),\n",
    "            bn10=L.BatchNormalization(out_chanel1),\n",
    "            bn11=L.BatchNormalization(out_chanel1),\n",
    "            bn12=L.BatchNormalization(out_chanel1),\n",
    "            bn13=L.BatchNormalization(out_chanel1),\n",
    "            bn14=L.BatchNormalization(out_chanel1),\n",
    "            bn15=L.BatchNormalization(out_chanel1),\n",
    "            bn16=L.BatchNormalization(out_chanel1),\n",
    "            bn17=L.BatchNormalization(out_chanel1),\n",
    "            bn18=L.BatchNormalization(out_chanel1),\n",
    "            bn19=L.BatchNormalization(out_chanel1),\n",
    "            bn20=L.BatchNormalization(out_chanel1),\n",
    "            bn21=L.BatchNormalization(out_chanel1),\n",
    "            bn22=L.BatchNormalization(out_chanel1),\n",
    "            bn23=L.BatchNormalization(out_chanel1),\n",
    "            bn24=L.BatchNormalization(out_chanel1),\n",
    "            bn25=L.BatchNormalization(out_chanel1),\n",
    "            bn26=L.BatchNormalization(out_chanel1),\n",
    "            bn27=L.BatchNormalization(out_chanel1),\n",
    "            bn28=L.BatchNormalization(out_chanel1),\n",
    "\n",
    "            l1=L.Linear(None,2),\n",
    "           \n",
    "        \n",
    "        )\n",
    "        self.act=F.rrelu\n",
    "        \n",
    "    def __call__(self,x):\n",
    "            h0=self.act(self.bn0(self.conv0(x)))\n",
    "            h1=self.act(self.bn1(self.conv1(h0)))\n",
    "            h2=self.act(self.bn2(self.conv2(h1)))\n",
    "            h3=self.act(self.bn3(self.conv3(h2))+h1)\n",
    "            h4=self.act(self.bn4(self.conv4(h3)))\n",
    "            h5=self.act(self.bn5(self.conv5(h4))+h3)\n",
    "            h6=self.act(self.bn6(self.conv6(h5)))\n",
    "            h7=self.act(self.bn7(self.conv7(h6))+h5)\n",
    "            h8=self.act(self.bn8(self.conv8(h7)))\n",
    "            h9=self.act(self.bn9(self.conv9(h8))+h7)\n",
    "            h10=self.act(self.bn10(self.conv10(h9)))\n",
    "            h11=self.act(self.bn11(self.conv11(h10))+h9)\n",
    "            h12=self.act(self.bn12(self.conv12(h11)))\n",
    "            h13=self.act(self.bn13(self.conv13(h12))+h11)\n",
    "            h14=self.act(self.bn14(self.conv14(h13)))\n",
    "            h15=self.act(self.bn15(self.conv15(h14))+h13)\n",
    "            h16=self.act(self.bn16(self.conv16(h15)))\n",
    "            h17=self.act(self.bn17(self.conv17(h16))+h15)\n",
    "            h18=self.act(self.bn18(self.conv18(h17)))\n",
    "            h19=self.act(self.bn19(self.conv19(h18))+h17)\n",
    "            h20=self.act(self.bn20(self.conv20(h19)))\n",
    "            h21=self.act(self.bn21(self.conv21(h20))+h19)\n",
    "            h22=self.act(self.bn22(self.conv22(h21)))\n",
    "            h23=self.act(self.bn23(self.conv23(h22))+h21)\n",
    "            h24=self.act(self.bn24(self.conv24(h23)))\n",
    "            h25=self.act(self.bn25(self.conv25(h24))+h23)\n",
    "            h26=self.act(self.bn26(self.conv26(h25)))\n",
    "            h27=self.act(self.bn27(self.conv27(h26))+h25)\n",
    "            h28=self.act(self.bn28(self.conv28(h27)))\n",
    "\n",
    "            \n",
    "            return self.l1(h28)\n",
    " "
   ]
  },
  {
   "cell_type": "code",
   "execution_count": null,
   "metadata": {
    "colab": {
     "base_uri": "https://localhost:8080/",
     "height": 374
    },
    "colab_type": "code",
    "executionInfo": {
     "elapsed": 659909,
     "status": "ok",
     "timestamp": 1545290680213,
     "user": {
      "displayName": "斉藤慎太郎",
      "photoUrl": "",
      "userId": "08781351261207481557"
     },
     "user_tz": -540
    },
    "id": "1oXBCjLMObFf",
    "outputId": "d5f0e734-80c2-4b68-d950-996c7c8c067c",
    "scrolled": false
   },
   "outputs": [],
   "source": [
    "##学習方法の定義\n",
    "\n",
    "model=Purchase()\n",
    "model = L.Classifier(model)\n",
    "'''学習再開するときは次のコードも実行する'''\n",
    "#serializers.load_hdf5(\"purchase_CNN_64.hdf5\",model)\n",
    "\n",
    "\n",
    "##GPUの設定\n",
    "\n",
    "use_device=0\n",
    "\n",
    "if use_device==0:\n",
    "    cuda.get_device(0).use()\n",
    "    model.to_gpu()\n",
    "\n",
    "    \n",
    "##作成したデータの番号をランダムに選択\n",
    "\n",
    "\n",
    "##繰り返し条件\n",
    "##データサンプルの大きさにバッチを合わせる\n",
    "batch_size=64\n",
    "train_iter=iterators.SerialIterator(train,batch_size,shuffle=True)\n",
    "test_iter=iterators.SerialIterator(test,batch_size,repeat=False,shuffle=False)\n",
    "\n",
    "##誤差逆伝搬の定義\n",
    "optimizer=optimizers.Adam()\n",
    "optimizer.setup(model)\n",
    "\n",
    "##trainerの作成\n",
    "updater=training.StandardUpdater(train_iter,optimizer,device=use_device)\n",
    "trainer=training.Trainer(updater,(20,'epoch'),out=\"result/residual/Adam/\")\n",
    "\n",
    "##trainerをtestに適用\n",
    "trainer.extend(extensions.Evaluator(test_iter,model,device=use_device))\n",
    "\n",
    "##ログの出力\n",
    "trainer.extend(extensions.LogReport())\n",
    "trainer.extend(extensions.PrintReport(['epoch', 'main/loss', 'main/accuracy', 'validation/main/loss', 'validation/main/accuracy', 'elapsed_time']))\n",
    " \n",
    "# 損失関数の値をグラフにする機能\n",
    "trainer.extend(extensions.PlotReport(['main/loss', 'validation/main/loss'], x_key='epoch', file_name='loss.png'))\n",
    " \n",
    "# 正答率をグラフにする機能\n",
    "trainer.extend(extensions.PlotReport(['main/accuracy', 'validation/main/accuracy'], x_key='epoch', file_name='accuracy.png'))\n",
    " \n",
    "\n",
    "##学習をrun\n",
    "trainer.run()\n",
    "\n",
    "##学習結果を保存する\n",
    "#chainer.serializers.save_hdf5('purchase_CNN_64.hdf5',model)"
   ]
  },
  {
   "cell_type": "code",
   "execution_count": null,
   "metadata": {
    "colab": {
     "base_uri": "https://localhost:8080/",
     "height": 279
    },
    "colab_type": "code",
    "executionInfo": {
     "elapsed": 658030,
     "status": "ok",
     "timestamp": 1545290680213,
     "user": {
      "displayName": "斉藤慎太郎",
      "photoUrl": "",
      "userId": "08781351261207481557"
     },
     "user_tz": -540
    },
    "id": "2pNCubDOgaH9",
    "outputId": "352dc3bd-8c96-43ac-9fcb-714e78f68de1"
   },
   "outputs": [],
   "source": [
    "from IPython.display import Image\n",
    "Image(filename='./result/residual/Adam/loss.png')"
   ]
  },
  {
   "cell_type": "code",
   "execution_count": null,
   "metadata": {
    "colab": {
     "base_uri": "https://localhost:8080/",
     "height": 279
    },
    "colab_type": "code",
    "executionInfo": {
     "elapsed": 657855,
     "status": "ok",
     "timestamp": 1545290680214,
     "user": {
      "displayName": "斉藤慎太郎",
      "photoUrl": "",
      "userId": "08781351261207481557"
     },
     "user_tz": -540
    },
    "id": "77RB2tcejCG7",
    "outputId": "ddcb75fd-3e2a-4468-a4f2-ef9c01f4325d"
   },
   "outputs": [],
   "source": [
    "from IPython.display import Image\n",
    "Image(filename='./result/residual/Adam/accuracy.png')"
   ]
  }
 ],
 "metadata": {
  "accelerator": "GPU",
  "colab": {
   "collapsed_sections": [],
   "name": "purchase_predcit2_data_modify.ipynb",
   "provenance": [],
   "version": "0.3.2"
  },
  "kernelspec": {
   "display_name": "Python 3",
   "language": "python",
   "name": "python3"
  },
  "language_info": {
   "codemirror_mode": {
    "name": "ipython",
    "version": 3
   },
   "file_extension": ".py",
   "mimetype": "text/x-python",
   "name": "python",
   "nbconvert_exporter": "python",
   "pygments_lexer": "ipython3",
   "version": "3.6.8"
  }
 },
 "nbformat": 4,
 "nbformat_minor": 1
}
